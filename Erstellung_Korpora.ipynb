{
 "cells": [
  {
   "cell_type": "markdown",
   "metadata": {},
   "source": [
    "## Erstellung der Korpora im Rahmen des Projekts *Inhaltliche Analyse von Plenarprotokollen des deutschen Bundestages durch Topic Modeling*"
   ]
  },
  {
   "cell_type": "markdown",
   "metadata": {},
   "source": [
    "In diesen Notebook sind die Codeabschnitte aufgeführt, welche Schritt für Schritt die Korpora erstellen, die für das Projekt verwendet wurden. Das Notebook dient damit der Nachvollziehbarkeit.\n",
    "\n",
    "Es wird mit dem Originalkorpus gestartet. **Das Originalkorpus sollte sich in einem Ordner auf der selben Dateiebene wie dieses Notebook befinden.** Alle weiteren Ordner werden automatisch erstellt. Es werden nicht nur die Korpora erstellt wie sie auf GitHub zu finden sind - auch zwei kleinere Schritte werden als einzelne Ordner ausgegeben, damit der ganze Workflow anhand der Dateien nachvollzogen werden kann.\n",
    "\n",
    "Der Code wird nur ausführbar sein, wenn die zu erstellenden Ordner nicht vorhanden sind. Bei erneutem Ausführen des Skriptes sollten die entsprechenden Ordner also wieder entfernt werden.\n",
    "\n",
    "Hier sind zunächst die Abhängigkeiten des Codes. Die Anforderungen sind:\n",
    "\n",
    "- cophi==1.0.5\n",
    "\n",
    "- numpy==1.15.1\n",
    "\n",
    "- pandas==0.23.4"
   ]
  },
  {
   "cell_type": "code",
   "execution_count": null,
   "metadata": {},
   "outputs": [],
   "source": [
    "import cophi\n",
    "import glob\n",
    "import re\n",
    "import os\n",
    "import pandas as pd\n",
    "import numpy as np"
   ]
  },
  {
   "cell_type": "markdown",
   "metadata": {},
   "source": [
    "### 1. Umwandlung der Dateinamen\n",
    "\n",
    "Als erstes sollten die Dateinamen an das Sitzungsdatum angepasst werden. Dafür wurde eine kurze Funtkion geschrieben, welche die Monate in Zahlen umwandelt. Hier fiel auf, dass die Dateien unterschiedliche Kodierungen besaßen, weswegen der Umlaut extra behandelt wurde. **Das Originalkorpus auf GitHub wurde bereits vorsorglich nach UTF8 konvertiert, daher sollten Kodierungsschwierigkeiten in diesem Fall eliminiert sein.** Bei diesem Vorgehen handelt es sich um ein Relikt (zumindest für das jetzt konvertierte Korpus), welches das Ergebnis allerdings nicht beeinflusst.\n",
    "\n",
    "Der Dateinordner des Originalkorpus ist in diesem Fall *Protokolle_original*. Das Sitzungsdatum wird aus den Dateien extrahiert. Der Name kann in der vorletzen Zeile dieses Abschnitts angepasst werden. Es wird ein Ordner mit dem Namen *Protokolle_umbenannt* erstellt. **Das Originalkorpus wird dabei komplett ersetzt - die Originaldateien werden gelöscht.**"
   ]
  },
  {
   "cell_type": "code",
   "execution_count": null,
   "metadata": {},
   "outputs": [],
   "source": [
    "def month_converter(month):\n",
    "    if month == \"März\":\n",
    "        return 3\n",
    "    months = ['Januar', 'Februar', 'MÃ¤rz', 'April', 'Mai', 'Juni', 'Juli', 'August', 'September', 'Oktober', 'November', 'Dezember']\n",
    "    return months.index(month) + 1"
   ]
  },
  {
   "cell_type": "code",
   "execution_count": null,
   "metadata": {},
   "outputs": [],
   "source": [
    "def create_new_names(txt_files):\n",
    "    os.makedirs('Protokolle_umbenannt')\n",
    "    for file in txt_files:\n",
    "        \n",
    "        try:\n",
    "            f = open(file, encoding = \"ISO-8859-1\")\n",
    "            text = f.read()\n",
    "            # Extraktion des Datums\n",
    "            date = re.findall(\"(\\d+)\\. (\\S+) (\\d{4})\" , text )[0] \n",
    "       \n",
    "            # Gruppe 0 des regulären Ausdrucks ist der Tag \n",
    "            day = date[0]\n",
    "            # \" \" 1 \" \" ist der Monat (hier noch im Textformat)\n",
    "            month = date[1] \n",
    "            # \" \" 2 \" \" ist das Jahr\n",
    "            month = month_converter(month)\n",
    "            year = date[2]\n",
    "            \n",
    "            # Zwecks der Sortierung im Dateiensystem werden Nullen angehängt wo nötig\n",
    "            if int(day) <= 9:\n",
    "                day = '0'+day\n",
    "            if month <=9:\n",
    "                month = '0'+str(month) \n",
    "   \n",
    "        finally:\n",
    "            if f is not None:\n",
    "                   f.close()\n",
    "    \n",
    "        os.replace(file, 'Protokolle_umbenannt'+ '\\\\' + str(year) + \"_\" + str(month) + \"_\" + str(day) + \".txt\")\n",
    "\n",
    "        \n",
    "txt_files_original = glob.glob(\"Protokolle_original/*.txt\")        \n",
    "create_new_names(txt_files_original)"
   ]
  },
  {
   "cell_type": "markdown",
   "metadata": {},
   "source": [
    "### 2. Entfernen der vorangehenden Tagesordnungspunkte und des Anhangs\n",
    "\n",
    "Der im vorherigen Schritt erstellte Ordner wird an dieser Stelle wieder eingelesen. Es werden die Tagesordnungspunkte (im Bericht bis zum Stichwort *Beginn* und der Uhrzeit) sowie auch die Anhänge (ab dem Stichwort *Schluss* und der Uhrzeit) entfernt.\n",
    "\n",
    "Ein neuer Ordner *Protokolle_Zeit* wird erstellt. Dieser entspricht dem auf GitHub."
   ]
  },
  {
   "cell_type": "code",
   "execution_count": null,
   "metadata": {},
   "outputs": [],
   "source": [
    "txt_files_correctnames = glob.glob(\"Protokolle_umbenannt/*.txt\")"
   ]
  },
  {
   "cell_type": "code",
   "execution_count": null,
   "metadata": {},
   "outputs": [],
   "source": [
    "def remove_pre_and_post(txt_files):\n",
    "    os.makedirs('Protokolle_Zeit')\n",
    "    for file in txt_files:\n",
    "        f = open(file, encoding = \"utf-8\")\n",
    "   \n",
    "        text = f.read()\n",
    "        # Tagesordnungspunkte löschen\n",
    "        text4 = re.sub(\"Deutscher Bundestag(.|\\n)+?Beginn:? ?\\d+ ?.\\d+ ? ?Uhr ?\\n\", '', text) \n",
    "        # Anhänge löschen\n",
    "        text5 = re.sub(\"Schluss:? \\d+ ?. ?\\d+((.|\\n)*)\", '', text4) \n",
    "        file = re.findall('20.+', file)\n",
    "    \n",
    "        with open(os.path.join('Protokolle_Zeit', file[0]), 'a', encoding='utf-8') as myfile:\n",
    "            myfile.write(text5)\n",
    "            \n",
    "remove_pre_and_post(txt_files_correctnames)"
   ]
  },
  {
   "cell_type": "markdown",
   "metadata": {},
   "source": [
    "### 3. Übertragen des Korpus in ein Parteien-Korpus\n",
    "\n",
    "Mit diesen bereinigten Berichten sollte dann das Parteienkorpus erstellt werden. Erst wurden alle Arten von Zurufen entfernt.\n",
    "Dann wurden mit einem regulären Ausdruck alle einzelnen Reden identifiziert. Hierbei wurden auch andere Arten von Reden herausgefiltert (nach Bundesland statt nach Partei) sowie auch andere Dateien erstellt, die auf einen durch die vorherige Funktion nicht entdeckten Anhang zurückzuführen sind. **Diese Dateien müssen manuell vor dem nächsten Schritt aus dem Ordner *Protokolle_Parteien* gelöscht werden, sodass nur die Dokumente der Parteien übrig bleiben.** Dieser Ordner ist dann identisch mit dem auf GitHub."
   ]
  },
  {
   "cell_type": "code",
   "execution_count": null,
   "metadata": {},
   "outputs": [],
   "source": [
    "txt_files_removed = glob.glob(\"Protokolle_Zeit/*.txt\")"
   ]
  },
  {
   "cell_type": "code",
   "execution_count": null,
   "metadata": {},
   "outputs": [],
   "source": [
    "def convert_to_party_corpus(txt_files):\n",
    "    os.makedirs('Protokolle_Parteien')\n",
    "    for file in txt_files:\n",
    "        f = open(file, encoding = \"utf-8\")\n",
    "  \n",
    "        text = f.read()\n",
    "        # Entfernen von Einwürfen\n",
    "        text = re.sub(\"\\(.*(Beifall|Zuruf|Heiterkeit|Lachen){1}.*\\)\", '', text) \n",
    "        \n",
    "        # Regulärer Ausdruck zum identifizieren der Reden\n",
    "        p = re.compile(r'(^.*\\(.+\\): ?\\n(.|\\n)+?)(?=(^ ? ?Präsident.+: ?\\n|^ ? ?Vizepräsident.+:|\\(.+\\): ?\\n|^ ? ?.+: ?\\n))', re.MULTILINE)\n",
    "        liste = re.findall(p, text)\n",
    "        for l in liste:\n",
    "            l = l[0]\n",
    "            # für jede Rede die Partei identifizieren\n",
    "            party = re.findall('\\((.+)\\):', l)[0] \n",
    "            # eventuelle Kodierungsfehler bei BÜNDNIS 90/DIE GRÜNEN beheben\n",
    "            party2 = re.sub('/|\\xa090/| |90|-|.*\\(', '', party) \n",
    "  \n",
    "            l = re.sub(\"\\(.*\\[.*\\)\", '', l)\n",
    "  \n",
    "            # ein Dokument für die Rede je nach Partei festlegen und die Reden dort nacheinander hineinschreiben\n",
    "            with open(os.path.join('Protokolle_Parteien', party2+'.txt'), 'a', encoding='utf-8') as myfile: \n",
    "                myfile.write(l)\n",
    "                myfile.write('\\n')\n",
    "                myfile.write('---------')\n",
    "                   \n",
    "                    \n",
    "convert_to_party_corpus(txt_files_removed)"
   ]
  },
  {
   "cell_type": "markdown",
   "metadata": {},
   "source": [
    "### 4. Entfernen allen Rednernamen aus dem Parteien-Korpus\n",
    "\n",
    "Um das Parteienkorpus für Topic Modeling vorzubereiten sollten noch die Rednernamen und auch die Partei aus dem Text entfernt werden, damit diese keinen zu großen Einfluss auf die Topics haben können.\n",
    "\n",
    "Es entsteht ein neuer Ordner *Protokolle_ParteienOhneNamen*. Es wird nur noch der erste Redner mit Partei aufgeführt."
   ]
  },
  {
   "cell_type": "code",
   "execution_count": null,
   "metadata": {},
   "outputs": [],
   "source": [
    "txt_files_parties = glob.glob(\"Protokolle_Parteien/*.txt\")"
   ]
  },
  {
   "cell_type": "code",
   "execution_count": null,
   "metadata": {},
   "outputs": [],
   "source": [
    "def remove_names(txt_files):\n",
    "    os.makedirs('Protokolle_ParteienOhneNamen')\n",
    "    for file in txt_files:\n",
    "        f = open(file, encoding = \"utf-8\")\n",
    "        text = f.read()\n",
    "        party = re.findall('\\((.+)\\):', text)[0]   \n",
    "        party = re.sub('/|\\xa090/| |90|-|.*\\(', '', party)\n",
    "        # Identifizieren von Namen und Partei durch die zuvor eingefügte Linie\n",
    "        p = re.compile('---------.*$', re.MULTILINE) \n",
    "        t = re.sub(p, '', text)\n",
    "    \n",
    "        with open(os.path.join(r\"Protokolle_ParteienOhneNamen\", party+'.txt'), 'a', encoding='utf-8') as myfile:\n",
    "                myfile.write(t)\n",
    "                \n",
    "remove_names(txt_files_parties)"
   ]
  },
  {
   "cell_type": "markdown",
   "metadata": {},
   "source": [
    "### 5. Segmentieren\n",
    "\n",
    "Im letzten Schritt werden die Partei-Dokumente noch segmentiert, in diesem Fall in Abschnitte von maximal 300000 Wörtern (Tokens). Der Ordner *Protokolle_Parteien_Segmente* wird erstellt, dieser ist wieder identisch mit dem auf GitHub. Satzzeichen und Whitespace wird mit diesem Ansatz zusätzlich entfernt."
   ]
  },
  {
   "cell_type": "code",
   "execution_count": null,
   "metadata": {},
   "outputs": [],
   "source": [
    "corpus, metadata = cophi.corpus(directory=r\"Protokolle_ParteienOhneNamen\",\n",
    "                                filepath_pattern=\"**/*.txt\",\n",
    "                                treat_as=\".txt\",\n",
    "                                encoding=\"utf-8\",\n",
    "                                lowercase=False,\n",
    "                                token_pattern=r\"\\p{L}+\\p{P}?\\p{L}+\",\n",
    "                                maximum=None)\n",
    "os.makedirs('Protokolle_Parteien_Segmente')\n",
    "for doc in corpus.documents:\n",
    "    # hier wird die Segmentgröße festgelegt\n",
    "    segments = list(doc.segments(size=300000)) \n",
    "    \n",
    "    # die Partei wird erneut aus dem Text ausgelesen\n",
    "    party = re.findall('\\((.+)\\):', doc.text)[0] \n",
    "    party = re.sub('/|\\xa090/| |90|-|.*\\(', '', party)\n",
    "    party = re.sub('Ü', 'UE', party)\n",
    " \n",
    "    i = 0\n",
    "    while i < len(segments):\n",
    "        segment = segments[i]\n",
    "      \n",
    "        i = i+1\n",
    "        if i < 10:\n",
    "            count = '0'+str(i)\n",
    "        else: count = str(i)\n",
    "        # jedes Segment bekommt eine Segmentnummer\n",
    "        name =  party +'_'+count  \n",
    "\n",
    "        with open(os.path.join(r\"Protokolle_Parteien_Segmente\", name+'.txt'), 'a', encoding='utf-8') as myfile:\n",
    "            for word in segment:\n",
    "                myfile.write(word + ' ')\n"
   ]
  },
  {
   "cell_type": "markdown",
   "metadata": {},
   "source": [
    "### 6. Postprocessing: Zusammenfassen einer Document-Topic Matrix\n",
    "\n",
    "Für das erstellen der Graphen mit Excel wurde außerdem eine Funktion vorbereitet, welche eine Document-Topic Matrix nach Dokumentnamen zusammenfasst. Dies hat den Zweck bspw. die Matrix nach Monaten oder Jahren zu vereinen. Dafür herangenommen werden die ersten *n* Zeichen des Dokumentnamens. Die Funktion kann zum Beispiel mit einer Dateinamenskonvention wie *2014_01_17.txt* über die ersten 7 Zeichen eine \"Tagesmatrix\" in eine \"Monatsmatrix\" umwandeln.\n",
    "\n",
    "**Die Matrix muss nach dem Dateinamen sortiert sein.** Dies sollte sie diesem Workflow zufolge bereits sein. "
   ]
  },
  {
   "cell_type": "code",
   "execution_count": null,
   "metadata": {},
   "outputs": [],
   "source": [
    "def denser_matrix(df, characters): \n",
    "    i = 0\n",
    "    n = len(df.index)\n",
    "    index = df.index.values\n",
    "    newdf = pd.DataFrame(columns = index)\n",
    "    newdf = newdf.T\n",
    "    # Zeilenweise durch das Dataframe iterieren\n",
    "    while i < n: \n",
    "        series = df.iloc[i]\n",
    "        name = series.name\n",
    "   \n",
    "        for index, value in series.iteritems():\n",
    "            month = str(index)[:characters]\n",
    "            if month not in newdf.columns:\n",
    "                # eine leere Zeile mit einem neuen Index im neuen DataFrame anlegen\n",
    "                newdf[month] = np.nan  \n",
    "        # Reihenweise je Zeile   \n",
    "        for index, value in series.iteritems(): \n",
    "            # entsprechende zugehörige Zelle im neuen DataFrame identifizieren \n",
    "            month = str(index)[:characters] \n",
    "            \n",
    "            # wenn das Feld im neuen Dataframe leer ist\n",
    "            if pd.isnull(newdf.loc[name, month]): \n",
    "                # wird eine neue, leere Liste angelegt\n",
    "                montharray = []  \n",
    "                # und der erste Wert wird vorsorglich in das DataFrame geschrieben\n",
    "                newdf.loc[name, month] = value \n",
    "                # sowie als ersten Wert in die Liste geschrieben\n",
    "                montharray.append(value)   \n",
    "            # ansonsten wird der Wert der Liste angehängt\n",
    "            else:\n",
    "                montharray.append(value) \n",
    "                \n",
    "            final_value = np.mean(montharray) \n",
    "            #schließlich ersetzt der Mittelwert der Liste den alten Wert\n",
    "            newdf.loc[name, month] = final_value \n",
    "       \n",
    "        i = i+1\n",
    "    return newdf"
   ]
  },
  {
   "cell_type": "markdown",
   "metadata": {},
   "source": [
    "Hier wird die Dokument-Topcis Datei eingelesen. Auch diese sollte sich im selben Ordner befinden. Bei dem oben genannten Beispiel muss die die Zahl an Zeichen nicht angepasst werden. Mit der letzten Zeile kann außerdem die neue Matrix in eine CSV Datei abgepeichert werden."
   ]
  },
  {
   "cell_type": "code",
   "execution_count": null,
   "metadata": {},
   "outputs": [],
   "source": [
    "df = pd.read_csv('document_topics.csv', sep=';', encoding ='utf-8', index_col=0)\n",
    "\n",
    "month_df = denser_matrix(df, 7)\n",
    "#month_df.to_csv('monate.csv', sep=';', encoding='utf-8')"
   ]
  }
 ],
 "metadata": {
  "kernelspec": {
   "display_name": "Python 3",
   "language": "python",
   "name": "python3"
  },
  "language_info": {
   "codemirror_mode": {
    "name": "ipython",
    "version": 3
   },
   "file_extension": ".py",
   "mimetype": "text/x-python",
   "name": "python",
   "nbconvert_exporter": "python",
   "pygments_lexer": "ipython3",
   "version": "3.6.5"
  }
 },
 "nbformat": 4,
 "nbformat_minor": 2
}
